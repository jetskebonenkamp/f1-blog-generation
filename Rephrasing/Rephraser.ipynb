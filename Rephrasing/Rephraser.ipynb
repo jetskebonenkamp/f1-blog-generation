{
 "cells": [
  {
   "cell_type": "code",
   "execution_count": 1,
   "id": "e2b10857-d17c-4f10-91e9-7112cc4ee1cb",
   "metadata": {},
   "outputs": [],
   "source": [
    "import os\n",
    "import csv\n",
    "import random\n",
    "import json"
   ]
  },
  {
   "cell_type": "markdown",
   "id": "bbaec51e-dee6-4822-a5a4-72fd43a2f9cd",
   "metadata": {},
   "source": [
    "<h3>Loading the informative posts</h3>"
   ]
  },
  {
   "cell_type": "code",
   "execution_count": 2,
   "id": "e18ac562-7d60-4c24-b50e-60f976050739",
   "metadata": {},
   "outputs": [],
   "source": [
    "def loadFiles(folder):\n",
    "    return [f for f in os.listdir(folder) if 'ipynb' not in f]\n",
    "\n",
    "\n",
    "def loadPosts(fn, folder):\n",
    "    full_fn, posts = folder + fn, []\n",
    "    with open(full_fn, 'r') as f:\n",
    "        data = data = random.sample(list(csv.reader(f)), k=10)\n",
    "        for d in data: posts.append(d[-1])\n",
    "    return posts\n",
    "\n",
    "\n",
    "folder = '../Implementation/GeneratedPosts/'\n",
    "csv_files = loadFiles(folder)\n",
    "posts = {c.replace('.csv', ''): loadPosts(c, folder) for c in csv_files}"
   ]
  },
  {
   "cell_type": "markdown",
   "id": "12f4ce01-a198-4f84-be88-906dc3913517",
   "metadata": {},
   "source": [
    "<h3>Creating prompts based on the loaded posts</h3>"
   ]
  },
  {
   "cell_type": "code",
   "execution_count": 3,
   "id": "46794562-b441-4f85-9d8f-7cd944196223",
   "metadata": {},
   "outputs": [],
   "source": [
    "def createPrompts(posts):\n",
    "    prompts = []\n",
    "    for p in posts:\n",
    "        instr = 'Rewrite the following in a more entertaining way: '\n",
    "        prompt = instr + p\n",
    "        prompts.append(prompt)\n",
    "    return prompts\n",
    "\n",
    "\n",
    "prompts = {k: createPrompts(posts[k]) for k in posts}"
   ]
  },
  {
   "cell_type": "markdown",
   "id": "b21ab071-12bf-436b-b2d7-3863bd410374",
   "metadata": {},
   "source": [
    "<h3>Loading the OpenChat language model</h3>"
   ]
  },
  {
   "cell_type": "code",
   "execution_count": 4,
   "id": "93df376d-100b-4de6-80c3-5fce43454f8b",
   "metadata": {},
   "outputs": [
    {
     "data": {
      "application/vnd.jupyter.widget-view+json": {
       "model_id": "136118cad1d94f2ab9799374d941383e",
       "version_major": 2,
       "version_minor": 0
      },
      "text/plain": [
       "Downloading shards:   0%|          | 0/2 [00:00<?, ?it/s]"
      ]
     },
     "metadata": {},
     "output_type": "display_data"
    },
    {
     "data": {
      "application/vnd.jupyter.widget-view+json": {
       "model_id": "6c47bf890b38444db21247c6f4bbba2a",
       "version_major": 2,
       "version_minor": 0
      },
      "text/plain": [
       "Loading checkpoint shards:   0%|          | 0/2 [00:00<?, ?it/s]"
      ]
     },
     "metadata": {},
     "output_type": "display_data"
    },
    {
     "name": "stderr",
     "output_type": "stream",
     "text": [
      "/home/jovyan/fituenv/lib/python3.10/site-packages/transformers/generation/configuration_utils.py:381: UserWarning: `do_sample` is set to `False`. However, `temperature` is set to `0.5` -- this flag is only used in sample-based generation modes. You should set `do_sample=True` or unset `temperature`. This was detected when initializing the generation config instance, which means the corresponding file may hold incorrect parameterization and should be fixed.\n",
      "  warnings.warn(\n",
      "Special tokens have been added in the vocabulary, make sure the associated word embeddings are fine-tuned or trained.\n"
     ]
    }
   ],
   "source": [
    "from transformers import AutoModelForCausalLM, AutoTokenizer\n",
    "\n",
    "\n",
    "def loadModel(mn):\n",
    "    model = AutoModelForCausalLM.from_pretrained(mn)\n",
    "    tok = AutoTokenizer.from_pretrained(mn)\n",
    "    tok.pad_token = tok.eos_token\n",
    "    return model, tok\n",
    "\n",
    "\n",
    "model, tok = loadModel('openchat/openchat_3.5')"
   ]
  },
  {
   "cell_type": "markdown",
   "id": "ae876d3b-5284-4ba7-95ae-7169ecad4531",
   "metadata": {},
   "source": [
    "<h3>Rephrasing the informative posts</h3>"
   ]
  },
  {
   "cell_type": "code",
   "execution_count": 5,
   "id": "39b59dfe-44e3-44d9-a27d-f0d908953ad0",
   "metadata": {},
   "outputs": [],
   "source": [
    "def rephrase(prompts, model, tok):\n",
    "    model_inputs = tok(prompts, return_tensors='pt', padding=True)\n",
    "    model_output = model.generate(**model_inputs, max_new_tokens=100)\n",
    "    blog_posts = tok.batch_decode(model_output, skip_special_tokens=True)\n",
    "    return blog_posts\n",
    "\n",
    "\n",
    "blog_posts = {k: rephrase(prompts[k], model, tok) for k in prompts}"
   ]
  },
  {
   "cell_type": "markdown",
   "id": "f0ce350a-fbb7-4c49-9715-def0177312d7",
   "metadata": {},
   "source": [
    "<h3>Saving the rephrased posts</h3>"
   ]
  },
  {
   "cell_type": "code",
   "execution_count": 13,
   "id": "889e3f03-df9a-4d0b-9baf-902764177754",
   "metadata": {},
   "outputs": [],
   "source": [
    "def savePosts(key, bps, i=1):\n",
    "    fn = './RephrasedPosts/OriginalModel/' + key + '.json'\n",
    "    f_bps = {b.split('\\n')[0]: b.split('\\n')[2] for b in bps}\n",
    "    with open(fn, 'w') as f: json.dump(f_bps, f)\n",
    "\n",
    "\n",
    "for k in blog_posts: savePosts(k, blog_posts[k])"
   ]
  }
 ],
 "metadata": {
  "kernelspec": {
   "display_name": "Python3 (fituenv)",
   "language": "python",
   "name": "fituenv"
  },
  "language_info": {
   "codemirror_mode": {
    "name": "ipython",
    "version": 3
   },
   "file_extension": ".py",
   "mimetype": "text/x-python",
   "name": "python",
   "nbconvert_exporter": "python",
   "pygments_lexer": "ipython3",
   "version": "3.10.11"
  }
 },
 "nbformat": 4,
 "nbformat_minor": 5
}
