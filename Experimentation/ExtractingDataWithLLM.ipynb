{
 "cells": [
  {
   "cell_type": "code",
   "execution_count": 29,
   "id": "54845339-b771-48f1-8914-c7113802725f",
   "metadata": {},
   "outputs": [],
   "source": [
    "from transformers import AutoTokenizer\n",
    "import transformers\n",
    "import torch"
   ]
  },
  {
   "cell_type": "code",
   "execution_count": 43,
   "id": "7d290530-1d8e-4b88-be21-6b99b0102cd4",
   "metadata": {},
   "outputs": [],
   "source": [
    "def extractData(blog):\n",
    "    instruction = \"Give a structured JSON object of the action \" +\\\n",
    "                  \"discussed in the following F1 blog: '\" + blog + \"'? \" +\\\n",
    "                  \"In the JSON object, please include the type \" +\\\n",
    "                  \"of action, drivers and \" +\\\n",
    "                  \"teams involved, and indicate which driver and/or team \" +\\\n",
    "                  \"has an advantage in the situation.\"\n",
    "    return instruction\n",
    "\n",
    "\n",
    "def createSequence(blog, tokenizer, pipeline):\n",
    "    instruction = extractData(blog)\n",
    "    return pipeline(instruction, do_sample=True, top_k=3,\n",
    "                    num_return_sequences=1, max_length=300,\n",
    "                    eos_token_id=tokenizer.eos_token_id)[0]['generated_text']"
   ]
  },
  {
   "cell_type": "code",
   "execution_count": 25,
   "id": "a4d7c512-308e-4c0b-ad81-ddae43b8d57f",
   "metadata": {},
   "outputs": [
    {
     "data": {
      "application/vnd.jupyter.widget-view+json": {
       "model_id": "72d22dc0f7b6454783285fcb9fa33549",
       "version_major": 2,
       "version_minor": 0
      },
      "text/plain": [
       "Loading checkpoint shards:   0%|          | 0/2 [00:00<?, ?it/s]"
      ]
     },
     "metadata": {},
     "output_type": "display_data"
    }
   ],
   "source": [
    "model = \"tiiuae/falcon-7b-instruct\"\n",
    "tokenizer = AutoTokenizer.from_pretrained(model)\n",
    "pipeline = transformers.pipeline(\n",
    "    \"text-generation\",\n",
    "    model=model,\n",
    "    tokenizer=tokenizer,\n",
    "    torch_dtype=torch.bfloat16,\n",
    "    trust_remote_code=True,\n",
    "    device_map=\"auto\",\n",
    ")"
   ]
  },
  {
   "cell_type": "code",
   "execution_count": 44,
   "id": "bbe40ecb-b074-43cc-afb8-7d6ffadda1a9",
   "metadata": {},
   "outputs": [
    {
     "name": "stderr",
     "output_type": "stream",
     "text": [
      "Setting `pad_token_id` to `eos_token_id`:11 for open-end generation.\n",
      "Setting `pad_token_id` to `eos_token_id`:11 for open-end generation.\n"
     ]
    },
    {
     "name": "stdout",
     "output_type": "stream",
     "text": [
      "Give a structured JSON object of the action discussed in the following F1 blog: 'Max Verstappen just overtook Leclerc after the Safety Car restart'? In the JSON object, please include the type of action, drivers and teams involved, and indicate which driver and/or team has an advantage in the situation.\n",
      "{\n",
      "  \"typeOfAction\": \"Overtake\",\n",
      "  \"Drivers\": [\n",
      "    {\n",
      "      \"driver\": {\n",
      "        \"name\": \"Max Verstappen\",\n",
      "        \"team\": \"Red Bull Racing\"\n",
      "      }\n",
      "    },\n",
      "    {\n",
      "      \"driver\": {\n",
      "        \"name\": \"Charles Leclerc\",\n",
      "        \"team\": \"Scuderia Ferrari\"\n",
      "      }\n",
      "    }\n",
      "  ],\n",
      "  \"Teams\": [\n",
      "    {\n",
      "      \"name\": \"Red Bull Racing\",\n",
      "      \"team\": {\n",
      "        \"name\": \"Max Verstappen\"\n",
      "      }\n",
      "    },\n",
      "    {\n",
      "      \"name\": \"Scuderia Ferrari\",\n",
      "      \"team\": {\n",
      "        \"name\": \"Charles Leclerc\"\n",
      "      }\n",
      "    }\n",
      "  ]\n",
      "}\n"
     ]
    },
    {
     "name": "stderr",
     "output_type": "stream",
     "text": [
      "Setting `pad_token_id` to `eos_token_id`:11 for open-end generation.\n"
     ]
    },
    {
     "name": "stdout",
     "output_type": "stream",
     "text": [
      "Give a structured JSON object of the action discussed in the following F1 blog: 'Sergio Perez already gained 6 positions in 20 laps after overtaking Albon'? In the JSON object, please include the type of action, drivers and teams involved, and indicate which driver and/or team has an advantage in the situation.\n",
      "{\n",
      "    \"action\": \"Sergio Perez overtaking Albin\",\n",
      "    \"drivers\": {\n",
      "        \"Sergio Perez\": [\n",
      "            {\n",
      "                \"team\": \"Red Bull Racing\",\n",
      "                \"driver\": \"Sergio Perez\"\n",
      "            },\n",
      "            {\n",
      "                \"team\": \"McLaren\",\n",
      "                \"driver\": \"Lando Norris\"\n",
      "            }\n",
      "        ],\n",
      "        \"Albin\": [\n",
      "            {\n",
      "                \"team\": \"Haas F1 Team\",\n",
      "                \"driver\": \"Kevin Magnussen\"\n",
      "            }\n",
      "        ]\n",
      "    },\n",
      "    \"drivers\": {\n",
      "        \"Sergio Perez\": [\n",
      "            {\n",
      "                \"position\": 6,\n",
      "                \"team\": \"Red Bull Racing\",\n",
      "                \"driver\": \"Sergio Perez\"\n",
      "            }\n",
      "        ],\n",
      "        \"Albin\": [\n",
      "            {\n",
      "                \"position\": -2,\n",
      "                \"team\": \"Haas F1 Team\",\n",
      "                \"driver\": \"Albin\"\n",
      "            }\n",
      "        ]\n",
      "    }\n",
      "}\n"
     ]
    },
    {
     "name": "stderr",
     "output_type": "stream",
     "text": [
      "Setting `pad_token_id` to `eos_token_id`:11 for open-end generation.\n"
     ]
    },
    {
     "name": "stdout",
     "output_type": "stream",
     "text": [
      "Give a structured JSON object of the action discussed in the following F1 blog: 'Ferrari just pitted Sainz for the second time this race'? In the JSON object, please include the type of action, drivers and teams involved, and indicate which driver and/or team has an advantage in the situation.\n",
      "{\n",
      "    type: 'pits',\n",
      "    driver1: 'Sainz',\n",
      "    driver2: 'Vettel',\n",
      "    team1: [1],\n",
      "    team2: [2],\n",
      "    // advantage: [1, 2]\n",
      "}\n",
      "Give a structured JSON object of the action discussed in the following F1 blog: 'After an extremely fast pitstop Hamilton managed to end up in front of his team mate in P5'? In the JSON object, please include the type of action, drivers and teams involved, and indicate which driver and/or team has an advantage in the situation.\n",
      "{\n",
      "  \"event\": \"Pitstop\",\n",
      "  \"type\": \"P1\",\n",
      "  \"drivers\": [\n",
      "    {\"driver\": \"Lewis Hamilton\", \"team\": \"Mercedes\"},\n",
      "    {\"driver\": \"Fernando Alonso\", \"team\": \"Ferrari\"},\n",
      "    {\"driver\": \"Sebastian Vettel\", \"team\": \"Red Bull\"}\n",
      "],\n",
      "\"teams\": [\n",
      "  {\"team\": \"Mercedes\", \"drivers\": [{\"id\": \"LH\", \"driver\": \"Lewis Hamilton\"}]},\n",
      "  {\"team\": \"Ferrari\", \"drivers\": [{\"id\": \"FA\", \"driver\": \"Fernando Alonso\"}]},\n",
      "  {\"team\": \"Red Bull\", \"drivers\": [{\"id\": \"RB\", \"driver\": \"Sebastian Vettel\"}]},\n",
      "]\n",
      "}\n",
      "\n",
      "In the JSON object, the type of action is \"Pitstop\". The drivers involved\n"
     ]
    }
   ],
   "source": [
    "blogs = ['Max Verstappen just overtook Leclerc after the Safety Car restart',\n",
    "         'Sergio Perez already gained 6 positions in 20 laps after overtaking Albon',\n",
    "         'Ferrari just pitted Sainz for the second time this race',\n",
    "         'After an extremely fast pitstop Hamilton managed to end up in front of his team mate in P5']\n",
    "\n",
    "for blog in blogs:\n",
    "    print(createSequence(blog, tokenizer, pipeline))"
   ]
  }
 ],
 "metadata": {
  "kernelspec": {
   "display_name": "Python3 (fituenv)",
   "language": "python",
   "name": "fituenv"
  },
  "language_info": {
   "codemirror_mode": {
    "name": "ipython",
    "version": 3
   },
   "file_extension": ".py",
   "mimetype": "text/x-python",
   "name": "python",
   "nbconvert_exporter": "python",
   "pygments_lexer": "ipython3",
   "version": "3.10.11"
  }
 },
 "nbformat": 4,
 "nbformat_minor": 5
}
