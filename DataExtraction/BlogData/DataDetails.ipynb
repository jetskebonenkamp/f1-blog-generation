{
 "cells": [
  {
   "cell_type": "code",
   "execution_count": 1,
   "id": "d3777476-20c1-4c07-902a-17632446e43a",
   "metadata": {},
   "outputs": [],
   "source": [
    "import os\n",
    "\n",
    "files = os.listdir('./DataSet/')"
   ]
  },
  {
   "cell_type": "code",
   "execution_count": 5,
   "id": "61528cd7-82f5-4fcf-8544-693448bc6508",
   "metadata": {},
   "outputs": [
    {
     "name": "stdout",
     "output_type": "stream",
     "text": [
      "2018 231.85 16.23036360486034\n",
      "2019 166.15 19.02990359980832\n",
      "2020 123.05882352941177 21.677227784549324\n",
      "2021 108.38095238095238 22.37070651930522\n",
      "2022 119.77272727272727 24.420860912482024\n",
      "2023 140.95238095238096 25.77170418981877\n"
     ]
    }
   ],
   "source": [
    "import json\n",
    "import numpy as np\n",
    "\n",
    "t_stamps, tot_posts = {}, 0\n",
    "\n",
    "for year in range(2018, 2024):\n",
    "    y_files = [f for f in files if str(year) in f]\n",
    "    # print(year, len(y_files))\n",
    "    np_list, tok_list, stp_list = [], [], []\n",
    "    for yf in y_files:\n",
    "        with open(yf, 'r') as f:\n",
    "            data = json.load(f)\n",
    "            vals, stamps = list(data.values()), list(data.keys())\n",
    "            nr_toks = [len(v.split()) for v in vals]\n",
    "            nr_posts = len(vals)\n",
    "            tot_posts += nr_posts\n",
    "            np_list.append(nr_posts)\n",
    "            tok_list.append(np.mean(nr_toks))\n",
    "            stp_list.append(stamps)\n",
    "    avg_np = np.mean(np_list)\n",
    "    avg_tok = np.mean(tok_list)\n",
    "    t_stamps[year] = stp_list\n",
    "    print(year, avg_np, avg_tok)"
   ]
  },
  {
   "cell_type": "code",
   "execution_count": 6,
   "id": "f3d933d8-e471-4be4-a940-47f53a494637",
   "metadata": {},
   "outputs": [
    {
     "data": {
      "text/plain": [
       "17923"
      ]
     },
     "execution_count": 6,
     "metadata": {},
     "output_type": "execute_result"
    }
   ],
   "source": [
    "tot_posts"
   ]
  },
  {
   "cell_type": "code",
   "execution_count": 20,
   "id": "d3aaa4ea-8aee-4382-84ee-72a0c7f04d4b",
   "metadata": {},
   "outputs": [],
   "source": [
    "from datetime import datetime\n",
    "\n",
    "\n",
    "def to_dt(stamp):\n",
    "    return datetime.strptime(stamp, '%Y-%m-%dT%H:%M:%SZ')"
   ]
  },
  {
   "cell_type": "code",
   "execution_count": 37,
   "id": "6ff7b18e-ebd9-4d03-8b4a-7d72b243aa4d",
   "metadata": {},
   "outputs": [
    {
     "name": "stdout",
     "output_type": "stream",
     "text": [
      "2018 30.6213936972925\n",
      "2019 39.22639149468418\n",
      "2020 64.45417925478348\n",
      "2021 83.17687701520038\n",
      "2022 84.66136724960255\n",
      "2023 72.06942496493689\n"
     ]
    }
   ],
   "source": [
    "from scipy import stats\n",
    "\n",
    "for year in t_stamps:\n",
    "    stamp_lists = t_stamps[year]\n",
    "    diffs = []\n",
    "    for sl in stamp_lists:\n",
    "        sl_diffs = []\n",
    "        for i in range(len(sl)):\n",
    "            if i == 0: continue\n",
    "            prev, cur = to_dt(sl[i-1]), to_dt(sl[i])\n",
    "            diff = prev - cur\n",
    "            sl_diffs.append(diff.seconds)\n",
    "        sl_diffs = np.array(sl_diffs)\n",
    "        z = np.abs(stats.zscore(sl_diffs))\n",
    "        outliers = list(np.where(z > 2))\n",
    "        for o in sorted(outliers, reverse=True):\n",
    "            sl_diffs = np.delete(sl_diffs, o)\n",
    "        diffs += [sld for sld in sl_diffs]\n",
    "    print(year, np.mean(diffs))"
   ]
  },
  {
   "cell_type": "code",
   "execution_count": 2,
   "id": "f1ad8f2a-ad3f-49e8-8f72-926b5d48704a",
   "metadata": {},
   "outputs": [
    {
     "data": {
      "text/plain": [
       "20"
      ]
     },
     "execution_count": 2,
     "metadata": {},
     "output_type": "execute_result"
    }
   ],
   "source": [
    "f2018 = [f for f in files if '2018' in f]\n",
    "len(f2018)"
   ]
  }
 ],
 "metadata": {
  "kernelspec": {
   "display_name": "local-venv-kernel",
   "language": "python",
   "name": "local-venv-kernel"
  },
  "language_info": {
   "codemirror_mode": {
    "name": "ipython",
    "version": 3
   },
   "file_extension": ".py",
   "mimetype": "text/x-python",
   "name": "python",
   "nbconvert_exporter": "python",
   "pygments_lexer": "ipython3",
   "version": "3.8.10"
  }
 },
 "nbformat": 4,
 "nbformat_minor": 5
}
