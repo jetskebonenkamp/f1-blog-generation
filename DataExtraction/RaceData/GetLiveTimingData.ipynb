{
 "cells": [
  {
   "cell_type": "code",
   "execution_count": 18,
   "id": "afd1d28a-e901-44c4-b1c6-5a519d27ebb0",
   "metadata": {},
   "outputs": [],
   "source": [
    "import requests\n",
    "from bs4 import BeautifulSoup as bs\n",
    "import json"
   ]
  },
  {
   "cell_type": "code",
   "execution_count": 2,
   "id": "6d19e742-3dc6-436f-b353-2f85ea850f48",
   "metadata": {},
   "outputs": [],
   "source": [
    "base_url = \"https://ergast.com/api/f1/\""
   ]
  },
  {
   "cell_type": "code",
   "execution_count": 105,
   "id": "6252097d-6ec8-48de-a8cb-64fa4c89fc80",
   "metadata": {},
   "outputs": [],
   "source": [
    "races = []\n",
    "\n",
    "for y in range(2018, 2024):\n",
    "    year = str(y)\n",
    "    season_url = base_url + year\n",
    "    response = requests.get(season_url)\n",
    "    soup = bs(response.content, \"xml\")\n",
    "    race_elements = soup.find_all(\"Race\")\n",
    "    for race in race_elements:\n",
    "        race_name = race.find(\"RaceName\").text\n",
    "        race_date = race.find(\"Date\").text\n",
    "        race_name = race_name.replace(' ', '_')\n",
    "        races.append([race_date.split('-')[0],\n",
    "                     race_date, race_name])"
   ]
  },
  {
   "cell_type": "code",
   "execution_count": 71,
   "id": "42552863-d73e-463f-83b7-41aa1080ab2d",
   "metadata": {},
   "outputs": [],
   "source": [
    "def createLiveTimingUrl(race_info):\n",
    "    year, date, race_name = race_info\n",
    "    lt_url = \"https://livetiming.formula1.com/static/\" + year +\\\n",
    "             \"/\" + date + \"_\" + race_name + \"/\" + date +\\\n",
    "             \"_Race/RaceControlMessages.json\"\n",
    "    return lt_url, year, race_name"
   ]
  },
  {
   "cell_type": "code",
   "execution_count": 106,
   "id": "cd60c38e-8b7a-49b2-9c16-0895a450281c",
   "metadata": {},
   "outputs": [],
   "source": [
    "race_data = []\n",
    "\n",
    "for race in races:\n",
    "    race_data.append(createLiveTimingUrl(race))"
   ]
  },
  {
   "cell_type": "code",
   "execution_count": 107,
   "id": "aa2a8578-9536-4ead-a9ad-36d501ffd62f",
   "metadata": {},
   "outputs": [],
   "source": [
    "def retrieveMessages(lt_url):\n",
    "    response = requests.get(lt_url)\n",
    "    data_str = response.text.encode().decode('utf-8-sig')\n",
    "    data_json = json.loads(data_str)\n",
    "    return data_json\n",
    "\n",
    "\n",
    "def parseData(lt_url):\n",
    "    try:\n",
    "        data_json = retrieveMessages(lt_url)\n",
    "    except json.JSONDecodeError:\n",
    "        return None\n",
    "    messages = {}\n",
    "    last_lap = data_json['Messages'][-1]['Lap']\n",
    "    for i in range(1, last_lap + 1):\n",
    "        messages[str(i)] = []\n",
    "    for lap in messages:\n",
    "        new_messages = []\n",
    "        try:\n",
    "            messages_for_lap = [x for x in data_json['Messages'] if x['Lap'] == int(lap)]\n",
    "        except KeyError:\n",
    "            continue\n",
    "        for msg in messages_for_lap:\n",
    "            new_dict = {}\n",
    "            for key in msg:\n",
    "                if key != 'Utc' and key != 'Lap':\n",
    "                    new_dict[key.lower()] = msg[key]\n",
    "            new_messages.append(new_dict)\n",
    "        messages[lap] = new_messages\n",
    "    return messages"
   ]
  },
  {
   "cell_type": "code",
   "execution_count": 108,
   "id": "e56a32cd-8c15-4404-9690-df0cc325d5d2",
   "metadata": {},
   "outputs": [
    {
     "name": "stdout",
     "output_type": "stream",
     "text": [
      "https://livetiming.formula1.com/static/2023/2023-10-29_Mexico_City_Grand_Prix/2023-10-29_Race/RaceControlMessages.json\n",
      "https://livetiming.formula1.com/static/2023/2023-11-05_São_Paulo_Grand_Prix/2023-11-05_Race/RaceControlMessages.json\n",
      "https://livetiming.formula1.com/static/2023/2023-11-19_Las_Vegas_Grand_Prix/2023-11-19_Race/RaceControlMessages.json\n",
      "https://livetiming.formula1.com/static/2023/2023-11-26_Abu_Dhabi_Grand_Prix/2023-11-26_Race/RaceControlMessages.json\n"
     ]
    }
   ],
   "source": [
    "for data in race_data:\n",
    "    lt_url, year, rn = data\n",
    "    messages = parseData(lt_url)\n",
    "    if not messages:\n",
    "        print(lt_url)\n",
    "        continue\n",
    "    fn = './LiveTiming_Data/' + year + '_' +\\\n",
    "         rn.replace('_Grand_Prix', '').lower() + '.json'\n",
    "    with open(fn, 'w') as f:\n",
    "        json.dump(messages, f)"
   ]
  }
 ],
 "metadata": {
  "kernelspec": {
   "display_name": "Python 3 (ipykernel)",
   "language": "python",
   "name": "python3"
  },
  "language_info": {
   "codemirror_mode": {
    "name": "ipython",
    "version": 3
   },
   "file_extension": ".py",
   "mimetype": "text/x-python",
   "name": "python",
   "nbconvert_exporter": "python",
   "pygments_lexer": "ipython3",
   "version": "3.8.10"
  }
 },
 "nbformat": 4,
 "nbformat_minor": 5
}
