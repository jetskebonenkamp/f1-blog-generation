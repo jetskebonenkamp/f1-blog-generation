{
 "cells": [
  {
   "cell_type": "code",
   "execution_count": 3,
   "id": "2429dc86-c6fb-457b-a25c-2b077475b76d",
   "metadata": {},
   "outputs": [],
   "source": [
    "import json\n",
    "\n",
    "path = './TFeed_Timetables/2018_baku/timetable_102.json'\n",
    "with open(path, 'r') as f: data = json.load(f)"
   ]
  },
  {
   "cell_type": "code",
   "execution_count": 52,
   "id": "e5c28562-9508-4a3a-93c7-8d6c5cee3a97",
   "metadata": {},
   "outputs": [],
   "source": [
    "import os\n",
    "\n",
    "folder = './TFeed_Timetables/'\n",
    "race_folders = os.listdir(folder)"
   ]
  },
  {
   "cell_type": "code",
   "execution_count": 57,
   "id": "a1f00215-6b31-4777-95a5-2f4ff79a15b0",
   "metadata": {},
   "outputs": [],
   "source": [
    "c, files_pr = 0, []\n",
    "\n",
    "for rf in race_folders:\n",
    "    if 'ipynb' in rf: continue\n",
    "    rf = folder + rf\n",
    "    data_files = os.listdir(rf)\n",
    "    files_pr.append(len(data_files))\n",
    "    for df in data_files:\n",
    "        if 'ipynb' in df: continue\n",
    "        c += 1"
   ]
  },
  {
   "cell_type": "code",
   "execution_count": 85,
   "id": "23922af5-269e-4a96-a519-8e1a42592845",
   "metadata": {},
   "outputs": [],
   "source": [
    "import numpy as np\n",
    "from scipy import stats\n",
    "\n",
    "n_fp = np.array(files_pr)\n",
    "z = np.abs(stats.zscore(n_fp))\n",
    "outliers = list(np.where(z > 2))\n",
    "for o in sorted(outliers, reverse=True):\n",
    "    n_fp = np.delete(n_fp, o)"
   ]
  },
  {
   "cell_type": "code",
   "execution_count": 65,
   "id": "cf222cda-029f-447b-9158-9ae3f57722d2",
   "metadata": {},
   "outputs": [],
   "source": [
    "folder = './LiveTiming_Data/'\n",
    "lt_files = os.listdir(folder)"
   ]
  },
  {
   "cell_type": "code",
   "execution_count": 90,
   "id": "eb11b4b8-5129-407d-a9e7-1428a47a4dfa",
   "metadata": {},
   "outputs": [
    {
     "data": {
      "text/plain": [
       "120"
      ]
     },
     "execution_count": 90,
     "metadata": {},
     "output_type": "execute_result"
    }
   ],
   "source": [
    "all_keys, nr_messages, nr_files = {}, [], 0\n",
    "\n",
    "for lf in lt_files:\n",
    "    if 'ipynb' in lf: continue\n",
    "    nr_files += 1\n",
    "    with open(folder + lf, 'r') as f: data = json.load(f)\n",
    "    c = 0\n",
    "    for key in data:\n",
    "        for msg_obj in data[key]:\n",
    "            c += 1\n",
    "            for k in msg_obj.keys():\n",
    "                if k not in all_keys:\n",
    "                    all_keys[k] = [msg_obj[k]]\n",
    "                else:\n",
    "                    if msg_obj[k] not in all_keys[k]:\n",
    "                        if k == 'message': continue\n",
    "                        all_keys[k].append(msg_obj[k])\n",
    "    nr_messages.append(c)\n",
    "\n",
    "# all_keys\n",
    "nr_files"
   ]
  },
  {
   "cell_type": "code",
   "execution_count": 87,
   "id": "0680af59-8ce8-40a4-8d00-43d95087cf5a",
   "metadata": {},
   "outputs": [],
   "source": [
    "n_msg = np.array(nr_messages)\n",
    "z = np.abs(stats.zscore(n_msg))\n",
    "outliers = list(np.where(z > 2))\n",
    "for o in sorted(outliers, reverse=True):\n",
    "    n_msg = np.delete(n_msg, o)"
   ]
  },
  {
   "cell_type": "code",
   "execution_count": 88,
   "id": "6f01e81b-fd7d-4757-9488-888cad1a99c2",
   "metadata": {},
   "outputs": [
    {
     "data": {
      "text/plain": [
       "80.55855855855856"
      ]
     },
     "execution_count": 88,
     "metadata": {},
     "output_type": "execute_result"
    }
   ],
   "source": [
    "np.mean(n_msg)"
   ]
  },
  {
   "cell_type": "code",
   "execution_count": 86,
   "id": "31da89b3-c5ae-4db0-aa8e-7894dfce732a",
   "metadata": {},
   "outputs": [
    {
     "data": {
      "text/plain": [
       "180.5132743362832"
      ]
     },
     "execution_count": 86,
     "metadata": {},
     "output_type": "execute_result"
    }
   ],
   "source": [
    "np.mean(n_fp)"
   ]
  },
  {
   "cell_type": "code",
   "execution_count": 50,
   "id": "996c4b19-9f9a-426f-8d40-0882d395604f",
   "metadata": {},
   "outputs": [
    {
     "name": "stdout",
     "output_type": "stream",
     "text": [
      "64\n",
      "65\n",
      "64\n",
      "64\n",
      "64\n",
      "64\n",
      "16\n",
      "66\n",
      "2\n"
     ]
    }
   ],
   "source": [
    "for driver in data:\n",
    "    if driver == 'version': continue\n",
    "    d_data = data[driver]\n",
    "    keys = list(d_data.keys())\n",
    "    if d_data['best_time'] != 0: print(d_data['best_time'])\n",
    "    # break"
   ]
  },
  {
   "cell_type": "code",
   "execution_count": 14,
   "id": "b0502fd6-2a07-4f7a-b05e-340ffd7bb703",
   "metadata": {},
   "outputs": [],
   "source": [
    "n_data = {}\n",
    "\n",
    "for k in d_data: n_data[k] = str(d_data[k])"
   ]
  },
  {
   "cell_type": "code",
   "execution_count": 34,
   "id": "0c9a3da4-84bf-4cb6-9a16-bae3973afd66",
   "metadata": {},
   "outputs": [
    {
     "data": {
      "text/html": [
       "<div>\n",
       "<style scoped>\n",
       "    .dataframe tbody tr th:only-of-type {\n",
       "        vertical-align: middle;\n",
       "    }\n",
       "\n",
       "    .dataframe tbody tr th {\n",
       "        vertical-align: top;\n",
       "    }\n",
       "\n",
       "    .dataframe thead th {\n",
       "        text-align: right;\n",
       "    }\n",
       "</style>\n",
       "<table border=\"1\" class=\"dataframe\">\n",
       "  <thead>\n",
       "    <tr style=\"text-align: right;\">\n",
       "      <th></th>\n",
       "      <th>key</th>\n",
       "      <th>value</th>\n",
       "    </tr>\n",
       "  </thead>\n",
       "  <tbody>\n",
       "    <tr>\n",
       "      <th>0</th>\n",
       "      <td>updated</td>\n",
       "      <td>0</td>\n",
       "    </tr>\n",
       "    <tr>\n",
       "      <th>1</th>\n",
       "      <td>state</td>\n",
       "      <td>0</td>\n",
       "    </tr>\n",
       "    <tr>\n",
       "      <th>2</th>\n",
       "      <td>lap</td>\n",
       "      <td>27</td>\n",
       "    </tr>\n",
       "    <tr>\n",
       "      <th>3</th>\n",
       "      <td>lap_time</td>\n",
       "      <td>109.087</td>\n",
       "    </tr>\n",
       "    <tr>\n",
       "      <th>4</th>\n",
       "      <td>position</td>\n",
       "      <td>16</td>\n",
       "    </tr>\n",
       "    <tr>\n",
       "      <th>5</th>\n",
       "      <td>gap</td>\n",
       "      <td>-1</td>\n",
       "    </tr>\n",
       "    <tr>\n",
       "      <th>6</th>\n",
       "      <td>interval</td>\n",
       "      <td>5.438</td>\n",
       "    </tr>\n",
       "    <tr>\n",
       "      <th>7</th>\n",
       "      <td>pits</td>\n",
       "      <td>2</td>\n",
       "    </tr>\n",
       "    <tr>\n",
       "      <th>8</th>\n",
       "      <td>best_time</td>\n",
       "      <td>0</td>\n",
       "    </tr>\n",
       "    <tr>\n",
       "      <th>9</th>\n",
       "      <td>driver_number</td>\n",
       "      <td>2</td>\n",
       "    </tr>\n",
       "    <tr>\n",
       "      <th>10</th>\n",
       "      <td>speed</td>\n",
       "      <td>90</td>\n",
       "    </tr>\n",
       "    <tr>\n",
       "      <th>11</th>\n",
       "      <td>gear</td>\n",
       "      <td>3</td>\n",
       "    </tr>\n",
       "    <tr>\n",
       "      <th>12</th>\n",
       "      <td>gear_switches</td>\n",
       "      <td>1885</td>\n",
       "    </tr>\n",
       "    <tr>\n",
       "      <th>13</th>\n",
       "      <td>drs</td>\n",
       "      <td>0</td>\n",
       "    </tr>\n",
       "    <tr>\n",
       "      <th>14</th>\n",
       "      <td>lap_pos</td>\n",
       "      <td>0.2532</td>\n",
       "    </tr>\n",
       "    <tr>\n",
       "      <th>15</th>\n",
       "      <td>engine_rpm</td>\n",
       "      <td>7000</td>\n",
       "    </tr>\n",
       "    <tr>\n",
       "      <th>16</th>\n",
       "      <td>tyre_compound</td>\n",
       "      <td>[[1, 17], [2, 8], [7, 2]]</td>\n",
       "    </tr>\n",
       "    <tr>\n",
       "      <th>17</th>\n",
       "      <td>start_pos</td>\n",
       "      <td>16</td>\n",
       "    </tr>\n",
       "    <tr>\n",
       "      <th>18</th>\n",
       "      <td>points</td>\n",
       "      <td>6</td>\n",
       "    </tr>\n",
       "    <tr>\n",
       "      <th>19</th>\n",
       "      <td>speed_traps</td>\n",
       "      <td>[199, 208, 305, 302]</td>\n",
       "    </tr>\n",
       "    <tr>\n",
       "      <th>20</th>\n",
       "      <td>max_speed_traps</td>\n",
       "      <td>[200, 211, 323, 316]</td>\n",
       "    </tr>\n",
       "    <tr>\n",
       "      <th>21</th>\n",
       "      <td>s1</td>\n",
       "      <td>38.591</td>\n",
       "    </tr>\n",
       "    <tr>\n",
       "      <th>22</th>\n",
       "      <td>s2</td>\n",
       "      <td>43.932</td>\n",
       "    </tr>\n",
       "    <tr>\n",
       "      <th>23</th>\n",
       "      <td>s3</td>\n",
       "      <td>26.564</td>\n",
       "    </tr>\n",
       "  </tbody>\n",
       "</table>\n",
       "</div>"
      ],
      "text/plain": [
       "                key                      value\n",
       "0           updated                          0\n",
       "1             state                          0\n",
       "2               lap                         27\n",
       "3          lap_time                    109.087\n",
       "4          position                         16\n",
       "5               gap                         -1\n",
       "6          interval                      5.438\n",
       "7              pits                          2\n",
       "8         best_time                          0\n",
       "9     driver_number                          2\n",
       "10            speed                         90\n",
       "11             gear                          3\n",
       "12    gear_switches                       1885\n",
       "13              drs                          0\n",
       "14          lap_pos                     0.2532\n",
       "15       engine_rpm                       7000\n",
       "16    tyre_compound  [[1, 17], [2, 8], [7, 2]]\n",
       "17        start_pos                         16\n",
       "18           points                          6\n",
       "19      speed_traps       [199, 208, 305, 302]\n",
       "20  max_speed_traps       [200, 211, 323, 316]\n",
       "21               s1                     38.591\n",
       "22               s2                     43.932\n",
       "23               s3                     26.564"
      ]
     },
     "execution_count": 34,
     "metadata": {},
     "output_type": "execute_result"
    }
   ],
   "source": [
    "import pandas as pd\n",
    "\n",
    "# d_list = [(k, v) for k, v in dict.items()]\n",
    "pd.DataFrame(data=n_data.items(), columns=['key', 'value'])"
   ]
  }
 ],
 "metadata": {
  "kernelspec": {
   "display_name": "Python (expenv)",
   "language": "python",
   "name": "expenv"
  },
  "language_info": {
   "codemirror_mode": {
    "name": "ipython",
    "version": 3
   },
   "file_extension": ".py",
   "mimetype": "text/x-python",
   "name": "python",
   "nbconvert_exporter": "python",
   "pygments_lexer": "ipython3",
   "version": "3.10.11"
  }
 },
 "nbformat": 4,
 "nbformat_minor": 5
}
