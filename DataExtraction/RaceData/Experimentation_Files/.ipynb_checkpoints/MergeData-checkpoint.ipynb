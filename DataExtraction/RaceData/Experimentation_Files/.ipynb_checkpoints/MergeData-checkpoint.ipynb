{
 "cells": [
  {
   "cell_type": "code",
   "execution_count": 79,
   "id": "f400cff9-2651-49d7-8992-195661f0a7a9",
   "metadata": {},
   "outputs": [],
   "source": [
    "import json\n",
    "import os\n",
    "from difflib import SequenceMatcher\n",
    "import shutil"
   ]
  },
  {
   "cell_type": "code",
   "execution_count": 71,
   "id": "6f9418c1-7bbc-4be5-9c07-a07149e117f9",
   "metadata": {},
   "outputs": [],
   "source": [
    "def nameSimilar(name_a, name_b):\n",
    "    sim_ratio = SequenceMatcher(None, name_a, name_b).ratio()\n",
    "    # print(sim_ratio)\n",
    "    if sim_ratio >= 0.9:\n",
    "        return True\n",
    "    elif 0.8 < sim_ratio < 0.9:\n",
    "        print(name_a, name_b)\n",
    "        return True\n",
    "    else:\n",
    "        return False"
   ]
  },
  {
   "cell_type": "code",
   "execution_count": 2,
   "id": "a95000d0-322b-4b7f-a773-0981ae34b9c6",
   "metadata": {},
   "outputs": [],
   "source": [
    "circuit_files = os.listdir('./Ergast_Data_Circuit')\n",
    "constructor_files = os.listdir('./Ergast_Data_Constructors')\n",
    "driver_files = os.listdir('./Ergast_Data_Drivers')\n",
    "race_control_files = os.listdir('./LiveTiming_Data')\n",
    "tfeed_files = os.listdir('./TFeed_Data')\n",
    "\n",
    "all_files = [circuit_files, constructor_files, driver_files,\n",
    "             race_control_files, tfeed_files]"
   ]
  },
  {
   "cell_type": "code",
   "execution_count": 3,
   "id": "ced9e9f0-e14c-4dd5-b955-5e6a9501cdec",
   "metadata": {},
   "outputs": [],
   "source": [
    "filenames = []\n",
    "\n",
    "for file in circuit_files:\n",
    "    if 'ipynb' not in file:\n",
    "        filenames.append(file)"
   ]
  },
  {
   "cell_type": "code",
   "execution_count": 83,
   "id": "e6dbe845-7312-4ca4-82c9-cdeb3edfe3b4",
   "metadata": {},
   "outputs": [],
   "source": [
    "def getNumberOfLaps(fn):\n",
    "    nr_laps = 0\n",
    "    with open('./TFeed_Data/' + fn, 'r') as f:\n",
    "        tfeed_data = json.load(f)\n",
    "        for driver in tfeed_data:\n",
    "            for lap in tfeed_data[driver]:\n",
    "                nr_laps += 1\n",
    "            break\n",
    "    return nr_laps\n",
    "\n",
    "\n",
    "def loadData(folder, fn):\n",
    "    with open(folder + fn, 'r') as f:\n",
    "        data = json.load(f)\n",
    "    return data\n",
    "\n",
    "\n",
    "def getAllData(df, fn):\n",
    "    return {\n",
    "        \"stats\": loadData(df[4], fn),\n",
    "        \"race_control\": loadData(df[3], fn),\n",
    "        \"driver_info\": loadData(df[2], fn),\n",
    "        \"team_info\": loadData(df[1], fn),\n",
    "        \"race_info\": loadData(df[0], fn)\n",
    "    }\n",
    "\n",
    "\n",
    "def getDriverId(tfeed_name, driver_info):\n",
    "    last_name = tfeed_name.split('.')[1].lower()\n",
    "    if ' ' in last_name:\n",
    "        last_name = last_name.split(' ')[-1]\n",
    "    driver_id = ''\n",
    "    for driver in driver_info:\n",
    "        dn = driver\n",
    "        if '_' in dn:\n",
    "            dn = dn.split('_')[-1]\n",
    "        if last_name == dn:\n",
    "            driver_id = driver\n",
    "            break\n",
    "        elif nameSimilar(last_name, dn):\n",
    "            driver_id = driver\n",
    "            break\n",
    "    return driver_id"
   ]
  },
  {
   "cell_type": "code",
   "execution_count": 84,
   "id": "f9705aa4-b5ec-45ac-a7ff-acdf19c71acb",
   "metadata": {},
   "outputs": [],
   "source": [
    "data_folders = ['./Ergast_Data_Circuit/',\n",
    "                './Ergast_Data_Constructors/',\n",
    "                './Ergast_Data_Drivers/',\n",
    "                './LiveTiming_Data/',\n",
    "                './TFeed_Data/']\n",
    "\n",
    "for folder in os.listdir('./DataSet'):\n",
    "    if 'ipynb' in folder: continue\n",
    "    fn = folder + '.json'\n",
    "    try:\n",
    "        nr_laps = getNumberOfLaps(fn)\n",
    "    except FileNotFoundError:\n",
    "        shutil.rmtree('./DataSet/' + folder, ignore_errors=True)\n",
    "        continue\n",
    "    data = getAllData(data_folders, fn)\n",
    "    for lap in range(1, nr_laps + 1):\n",
    "        lap_data, lap_stats = {}, {}\n",
    "        for driver in data[\"stats\"]:\n",
    "            driver_id = getDriverId(driver, data[\"driver_info\"])\n",
    "            if driver_id == '':\n",
    "                break\n",
    "            # print(driver_id)\n",
    "            lap_stats[driver_id] = data[\"stats\"][driver][str(lap)]\n",
    "        lap_data[\"stats\"] = lap_stats\n",
    "        try:\n",
    "            lap_data[\"rc_messages\"] = data[\"race_control\"][str(lap)]\n",
    "        except KeyError:\n",
    "            lap_data[\"rc_messages\"] = []\n",
    "        lap_data[\"driver_info\"] = data[\"driver_info\"]\n",
    "        lap_data[\"team_info\"] = data[\"team_info\"]\n",
    "        lap_data[\"race_info\"] = data[\"race_info\"]\n",
    "        lap_fn = './DataSet/' + folder + '/lap' + f'{lap:02}' + '.json'\n",
    "        # break\n",
    "        with open(lap_fn, 'w') as f:\n",
    "            json.dump(lap_data, f)\n",
    "    if driver_id == '':\n",
    "        shutil.rmtree('./DataSet/' + folder, ignore_errors=True)\n",
    "        continue"
   ]
  }
 ],
 "metadata": {
  "kernelspec": {
   "display_name": "Python 3 (ipykernel)",
   "language": "python",
   "name": "python3"
  },
  "language_info": {
   "codemirror_mode": {
    "name": "ipython",
    "version": 3
   },
   "file_extension": ".py",
   "mimetype": "text/x-python",
   "name": "python",
   "nbconvert_exporter": "python",
   "pygments_lexer": "ipython3",
   "version": "3.8.10"
  }
 },
 "nbformat": 4,
 "nbformat_minor": 5
}
