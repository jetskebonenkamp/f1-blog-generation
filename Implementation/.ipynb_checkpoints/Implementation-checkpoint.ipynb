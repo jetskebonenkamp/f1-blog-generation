{
 "cells": [
  {
   "cell_type": "code",
   "execution_count": 1,
   "id": "bbe3e2d7-d4e4-48ea-a4ee-fe145c3532a1",
   "metadata": {},
   "outputs": [
    {
     "name": "stderr",
     "output_type": "stream",
     "text": [
      "Special tokens have been added in the vocabulary, make sure the associated word embeddings are fine-tuned or trained.\n"
     ]
    }
   ],
   "source": [
    "from transformers import AutoModelForSeq2SeqLM, AutoTokenizer\n",
    "\n",
    "model_folder = '../FineTuning/FinetunedModels/RUCAIBox_mvp-data-to-text'\n",
    "model = AutoModelForSeq2SeqLM.from_pretrained(model_folder)\n",
    "tok = AutoTokenizer.from_pretrained(model_folder)"
   ]
  },
  {
   "cell_type": "code",
   "execution_count": 2,
   "id": "5ddda75d-ba11-4a06-91a5-19d9a4f7cb01",
   "metadata": {},
   "outputs": [],
   "source": [
    "def reformatData(arr):\n",
    "    prompt = 'Write a live blog post describing the following events in a Formula 1 race: '\n",
    "    for obj in arr:\n",
    "        i = str(arr.index(obj) + 1)\n",
    "        sub, act, obj = obj['subject'], obj['action'], obj['object']\n",
    "        sub_i, act_i, obj_i = 'Agent' + i, 'Action' + i, 'Object' + i\n",
    "        try:\n",
    "            sub_cats = [list(s.keys()) for s in sub][0]\n",
    "            sub_ents = [list(s.values()) for s in sub][0]\n",
    "        except IndexError: continue\n",
    "        for p in range(len(sub_cats)):\n",
    "            cat, ent = sub_cats[p], sub_ents[p]\n",
    "            if not ent: continue\n",
    "            if type(ent) == list:\n",
    "                ent = ', '.join(ent)\n",
    "                cat += 's'\n",
    "            prompt += sub_i + ' | ' + cat + ' | ' + str(ent) + ' [SEP] '\n",
    "        prompt += act_i + ' | ' + act + ' [SEP] '\n",
    "        for key in obj:\n",
    "            obj_cat, obj_lst = key, obj[key]\n",
    "            for obj_ent in obj_lst:\n",
    "                prompt += obj_i + ' | ' + obj_cat + ' | ' + obj_ent + ' [SEP] '\n",
    "    return prompt[:-7]"
   ]
  },
  {
   "cell_type": "code",
   "execution_count": 3,
   "id": "05ed98ca-2222-4144-952d-4d9c347c7d5b",
   "metadata": {},
   "outputs": [],
   "source": [
    "def generatePosts(prompts):\n",
    "    model_inputs = tok(prompts, return_tensors='pt', padding=True)\n",
    "    model_output = model.generate(**model_inputs, max_new_tokens=500)\n",
    "    return tok.batch_decode(model_output, skip_special_tokens=True)"
   ]
  },
  {
   "cell_type": "code",
   "execution_count": 4,
   "id": "1e66da0e-c6b7-4714-8690-27a55404ee3d",
   "metadata": {},
   "outputs": [],
   "source": [
    "import json\n",
    "import os\n",
    "\n",
    "\n",
    "def loadFiles():\n",
    "    folder = '../EventIdentification/Events/'\n",
    "    return [folder + f for f in os.listdir(folder) if 'ipynb' not in f]\n",
    "\n",
    "def loadData(file):\n",
    "    with open(file, 'r') as f: return json.load(f)"
   ]
  },
  {
   "cell_type": "code",
   "execution_count": 34,
   "id": "3388b297-ca28-4bb4-8acc-6a7e1c21c956",
   "metadata": {},
   "outputs": [],
   "source": [
    "def getPrompts(data, lap):\n",
    "    prompts = []\n",
    "    for actions in data:\n",
    "        for act in actions:\n",
    "            prompts.append((act, reformatData(act)))\n",
    "    return prompts"
   ]
  },
  {
   "cell_type": "code",
   "execution_count": null,
   "id": "e54e532b-ad29-4539-8868-1bc0648fa1cb",
   "metadata": {},
   "outputs": [
    {
     "name": "stdout",
     "output_type": "stream",
     "text": [
      "../EventIdentification/Events/2018_monaco.json\n",
      "Saved ./GeneratedPosts/2018_monaco.csv\n",
      "../EventIdentification/Events/2018_shanghai.json\n",
      "Saved ./GeneratedPosts/2018_shanghai.csv\n",
      "../EventIdentification/Events/2019_marina_bay.json\n",
      "Saved ./GeneratedPosts/2019_marina_bay.csv\n",
      "../EventIdentification/Events/2019_catalunya.json\n",
      "Saved ./GeneratedPosts/2019_catalunya.csv\n",
      "../EventIdentification/Events/2021_baku.json\n",
      "Saved ./GeneratedPosts/2021_baku.csv\n",
      "../EventIdentification/Events/2021_americas.json\n",
      "Saved ./GeneratedPosts/2021_americas.csv\n",
      "../EventIdentification/Events/2022_spa.json\n",
      "Saved ./GeneratedPosts/2022_spa.csv\n",
      "../EventIdentification/Events/2022_jeddah.json\n",
      "Saved ./GeneratedPosts/2022_jeddah.csv\n",
      "../EventIdentification/Events/2023_baku.json\n",
      "Saved ./GeneratedPosts/2023_baku.csv\n",
      "../EventIdentification/Events/2023_silverstone.json\n"
     ]
    }
   ],
   "source": [
    "import pandas as pd\n",
    "\n",
    "\n",
    "files = loadFiles()\n",
    "\n",
    "for f in files:\n",
    "    print(f)\n",
    "    output, acts = [['Lap', 'Data', 'Prompt', 'Output']], []\n",
    "    data, objs, laps, prompts = loadData(f), [], [], []\n",
    "    for lap in data:\n",
    "        ps = getPrompts(data[lap], lap)\n",
    "        for a, p in ps: laps.append(lap), prompts.append(p), acts.append(a)\n",
    "    posts = generatePosts(prompts)\n",
    "    output = list(zip(laps, acts, prompts, posts))\n",
    "    # print(output[18:25])\n",
    "        # data.append(data[lap]\n",
    "        # posts = generatePosts(prompts[lap])\n",
    "        # for i in range(len(posts)):\n",
    "        #     output.append([lap, data[lap][i], prompts[lap][i], posts[i]])\n",
    "    # for lap in prompts:\n",
    "    #     posts = generatePosts(prompts[lap])\n",
    "    #     for i in range(len(posts)):\n",
    "    #         output.append([lap, data[lap][i],\n",
    "    #                        prompts[lap][i], posts[i]])\n",
    "    df, fn = pd.DataFrame(output), f.split('/')[-1].replace('json', 'csv')\n",
    "    fn = './GeneratedPosts/' + fn\n",
    "    df.to_csv(fn, index=False, header=False)\n",
    "    print('Saved', fn)"
   ]
  }
 ],
 "metadata": {
  "kernelspec": {
   "display_name": "Python3 (fituenv)",
   "language": "python",
   "name": "fituenv"
  },
  "language_info": {
   "codemirror_mode": {
    "name": "ipython",
    "version": 3
   },
   "file_extension": ".py",
   "mimetype": "text/x-python",
   "name": "python",
   "nbconvert_exporter": "python",
   "pygments_lexer": "ipython3",
   "version": "3.10.11"
  }
 },
 "nbformat": 4,
 "nbformat_minor": 5
}
