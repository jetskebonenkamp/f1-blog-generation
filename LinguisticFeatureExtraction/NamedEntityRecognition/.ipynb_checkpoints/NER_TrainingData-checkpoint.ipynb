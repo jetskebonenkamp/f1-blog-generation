{
 "cells": [
  {
   "cell_type": "code",
   "execution_count": 49,
   "id": "b6a2b99f-a5ff-4834-926f-31943ed9a687",
   "metadata": {},
   "outputs": [],
   "source": [
    "import pickle"
   ]
  },
  {
   "cell_type": "code",
   "execution_count": 50,
   "id": "8945d2e0-70f1-4ec7-8c3f-25243d2a871e",
   "metadata": {},
   "outputs": [],
   "source": [
    "def getStartAndEndIndex(blog, entity, i):\n",
    "    if i > 0:\n",
    "        si = -1\n",
    "        for i in range(0, i):\n",
    "            si = blog.find(entity, si + 1)\n",
    "        ei = si + len(entity)\n",
    "    else:\n",
    "        si = blog.index(entity)\n",
    "        ei = si + len(entity)\n",
    "    return si, ei\n",
    "\n",
    "\n",
    "def createEntity(params, entity, label, i=0):\n",
    "    blog, ents = params\n",
    "    si, ei = getStartAndEndIndex(blog, entity, i)\n",
    "    ents.append((si, ei, label))"
   ]
  },
  {
   "cell_type": "code",
   "execution_count": 51,
   "id": "d9c8b585-cf88-460f-b4f2-1a03ac6df065",
   "metadata": {},
   "outputs": [],
   "source": [
    "train_data = []"
   ]
  },
  {
   "cell_type": "code",
   "execution_count": 52,
   "id": "4cb3aa83-440f-4436-811a-1b2cf2cb25a8",
   "metadata": {},
   "outputs": [],
   "source": [
    "ents = []\n",
    "blog = \"That McLaren is slippery in a straight line, but there's nothing \" +\\\n",
    "       \"Norris can do to stop Verstappen with DRS, as he charges into the \" +\\\n",
    "       \"lead under braking at Brooklands on lap five.\"\n",
    "\n",
    "params = [blog, ents]\n",
    "\n",
    "createEntity(params, \"McLaren\", \"TEAM\")\n",
    "createEntity(params, \"Norris\", \"DRIVER\")\n",
    "createEntity(params, \"Verstappen\", \"DRIVER\")\n",
    "createEntity(params, \"lead\", \"POSITION\")\n",
    "createEntity(params, \"Brooklands\", \"LOCATION\")\n",
    "createEntity(params, \"lap five\", \"TIMING\")\n",
    "\n",
    "train_data.append((blog, {\"entities\": ents}))"
   ]
  },
  {
   "cell_type": "code",
   "execution_count": 53,
   "id": "c008821d-f19e-4700-b4ce-6c1b96db5052",
   "metadata": {},
   "outputs": [],
   "source": [
    "ents = []\n",
    "blog = \"Russell looks for a way by Leclerc, but some robust defending \" +\\\n",
    "       \"from the Ferrari forces the Mercedes to yield at Stowe.\"\n",
    "\n",
    "params = [blog, ents]\n",
    "\n",
    "createEntity(params, \"Russell\", \"DRIVER\")\n",
    "createEntity(params, \"Leclerc\", \"DRIVER\")\n",
    "createEntity(params, \"Ferrari\", \"TEAM\")\n",
    "createEntity(params, \"Mercedes\", \"TEAM\")\n",
    "createEntity(params, \"Stowe\", \"LOCATION\")\n",
    "\n",
    "train_data.append((blog, {\"entities\": ents}))"
   ]
  },
  {
   "cell_type": "code",
   "execution_count": 54,
   "id": "d1f0b2b1-36bd-4221-b713-e52b5d6c6b59",
   "metadata": {},
   "outputs": [],
   "source": [
    "ents = []\n",
    "blog = \"Hamilton is now all over the gearbox of Alonso for P7. He \" +\\\n",
    "       \"chases through Copse and will have DRS down the Hanger Straight.\"\n",
    "\n",
    "params = [blog, ents]\n",
    "\n",
    "createEntity(params, \"Hamilton\", \"DRIVER\")\n",
    "createEntity(params, \"Alonso\", \"DRIVER\")\n",
    "createEntity(params, \"P7\", \"POSITION\")\n",
    "createEntity(params, \"Copse\", \"LOCATION\")\n",
    "createEntity(params, \"Hanger Straight\", \"LOCATION\")\n",
    "\n",
    "train_data.append((blog, {\"entities\": ents}))"
   ]
  },
  {
   "cell_type": "code",
   "execution_count": 55,
   "id": "3e92a3e1-b9c1-4939-be5e-e8f3f5aa1c9d",
   "metadata": {},
   "outputs": [],
   "source": [
    "ents = []\n",
    "blog = \"Norris is told Piastri has been ordered to hold position in \" +\\\n",
    "       \"third behind him, so that both McLaren cars can chase \" +\\\n",
    "       \"Verstappen and pull away from the rest.\"\n",
    "\n",
    "params = [blog, ents]\n",
    "\n",
    "createEntity(params, \"Norris\", \"DRIVER\")\n",
    "createEntity(params, \"Piastri\", \"DRIVER\")\n",
    "createEntity(params, \"third\", \"POSITION\")\n",
    "createEntity(params, \"McLaren\", \"TEAM\")\n",
    "createEntity(params, \"Verstappen\", \"DRIVER\")\n",
    "\n",
    "train_data.append((blog, {\"entities\": ents}))"
   ]
  },
  {
   "cell_type": "code",
   "execution_count": 56,
   "id": "350c84b6-f1b1-4499-8b5d-19ab124b1b2b",
   "metadata": {},
   "outputs": [],
   "source": [
    "ents = []\n",
    "blog = \"But this time, Hamilton makes it stick! Down the Wellington \" +\\\n",
    "       \"Straight, he opened DRS and flew past Alonso. That was as \" +\\\n",
    "       \"easy as it comes. Hamilton has now disappeared into the distance \" +\\\n",
    "       \"and is hunting down Carlos Sainz.\"\n",
    "\n",
    "params = [blog, ents]\n",
    "\n",
    "createEntity(params, \"Hamilton\", \"DRIVER\")\n",
    "createEntity(params, \"Wellington Straight\", \"LOCATION\")\n",
    "createEntity(params, \"Alonso\", \"DRIVER\")\n",
    "createEntity(params, \"Hamilton\", \"DRIVER\", 2)\n",
    "createEntity(params, \"Carlos Sainz\", \"DRIVER\")\n",
    "\n",
    "train_data.append((blog, {\"entities\": ents}))"
   ]
  },
  {
   "cell_type": "code",
   "execution_count": 57,
   "id": "276cc645-7210-40fd-be2d-0dd7d938964e",
   "metadata": {},
   "outputs": [],
   "source": [
    "ents = []\n",
    "blog = \"Hulkenberg has stopped for a new front wing after contact \" +\\\n",
    "       \"with Perez as the Red Bull driver continued his recovery. \" +\\\n",
    "       \"Perez is up to P13 and is chasing Ocon.\"\n",
    "\n",
    "params = [blog, ents]\n",
    "\n",
    "createEntity(params, \"Hulkenberg\", \"DRIVER\")\n",
    "createEntity(params, \"Perez\", \"DRIVER\")\n",
    "createEntity(params, \"Red Bull\", \"TEAM\")\n",
    "createEntity(params, \"Perez\", \"DRIVER\", 2)\n",
    "createEntity(params, \"P13\", \"POSITION\")\n",
    "createEntity(params, \"Ocon\", \"DRIVER\")\n",
    "\n",
    "train_data.append((blog, {\"entities\": ents}))"
   ]
  },
  {
   "cell_type": "code",
   "execution_count": 58,
   "id": "babc9fe7-8097-43a5-a598-68f92967304f",
   "metadata": {},
   "outputs": [],
   "source": [
    "ents = []\n",
    "blog = \"At the start of lap eight Verstappen has a 0.9s lead over \" +\\\n",
    "       \"Norris and reports that his car's pulling is a bit weird, \" +\\\n",
    "       \"but his concerns are soothed as he is told that is due to \" +\\\n",
    "       \"the windy conditions.\"\n",
    "\n",
    "params = [blog, ents]\n",
    "\n",
    "createEntity(params, \"Verstappen\", \"DRIVER\")\n",
    "\n",
    "train_data.append((blog, {\"entities\": ents}))"
   ]
  },
  {
   "cell_type": "code",
   "execution_count": 59,
   "id": "71e0b88e-43e2-4b17-b77c-60bc77ff1e3e",
   "metadata": {},
   "outputs": [],
   "source": [
    "ents = []\n",
    "blog = \"The trio at the front have pulled a small gap of 3.6s on \" +\\\n",
    "       \"Leclerc in fourth, who still has Russell tucked up behind him.\"\n",
    "\n",
    "params = [blog, ents]\n",
    "\n",
    "createEntity(params, \"Leclerc\", \"DRIVER\")\n",
    "createEntity(params, \"fourth\", \"POSITION\")\n",
    "createEntity(params, \"Russell\", \"DRIVER\")\n",
    "createEntity(params, \"3.6s\", \"GAP\")\n",
    "\n",
    "train_data.append((blog, {\"entities\": ents}))"
   ]
  },
  {
   "cell_type": "code",
   "execution_count": 60,
   "id": "cb49aa16-b6f7-4485-8218-2c2920aa752f",
   "metadata": {},
   "outputs": [],
   "source": [
    "ents = []\n",
    "blog = \"Ocon has pitted 'to retire the car'. He was P12 at the time. \" +\\\n",
    "       \"There is not yet any indication on why he has returned to the garage.\"\n",
    "\n",
    "params = [blog, ents]\n",
    "\n",
    "createEntity(params, \"Ocon\", \"DRIVER\")\n",
    "createEntity(params, \"P12\", \"POSITION\")\n",
    "\n",
    "train_data.append((blog, {\"entities\": ents}))"
   ]
  },
  {
   "cell_type": "code",
   "execution_count": 61,
   "id": "4057701e-6bdb-4b0c-98b5-c094324106f0",
   "metadata": {},
   "outputs": [],
   "source": [
    "ents = []\n",
    "blog = \"Stroll's afternoon and season takes another turn for the \" +\\\n",
    "       \"worse, as Perez gets past for P11. Just one more place for \" +\\\n",
    "       \"Perez before he hits the points-paying positions.\"\n",
    "\n",
    "params = [blog, ents]\n",
    "\n",
    "createEntity(params, \"Stroll\", \"DRIVER\")\n",
    "createEntity(params, \"Perez\", \"DRIVER\")\n",
    "createEntity(params, \"P11\", \"POSITION\")\n",
    "\n",
    "train_data.append((blog, {\"entities\": ents}))"
   ]
  },
  {
   "cell_type": "code",
   "execution_count": 62,
   "id": "0c3d0b07-13c0-4f79-b1bd-ad86d735a9ad",
   "metadata": {},
   "outputs": [],
   "source": [
    "ents = []\n",
    "blog = \"Medium tyres off and soft tyres on for Tsunoda.\"\n",
    "\n",
    "params = [blog, ents]\n",
    "\n",
    "createEntity(params, \"Tsunoda\", \"DRIVER\")\n",
    "createEntity(params, \"Medium\", \"TYRE\")\n",
    "createEntity(params, \"soft\", \"TYRE\")\n",
    "\n",
    "train_data.append((blog, {\"entities\": ents}))"
   ]
  },
  {
   "cell_type": "code",
   "execution_count": 63,
   "id": "a8a8cfb2-4f30-418f-945c-3cf5ac4eaa2a",
   "metadata": {},
   "outputs": [],
   "source": [
    "ents = []\n",
    "blog = \"Verstappen is 4.1s in the lead and clearly bored as he \" +\\\n",
    "       \"spots on the big screen Leclerc pitting. He's told not to \" +\\\n",
    "       \"worry about that.\"\n",
    "\n",
    "params = [blog, ents]\n",
    "\n",
    "createEntity(params, \"Verstappen\", \"DRIVER\")\n",
    "createEntity(params, \"in the lead\", \"POSITION\")\n",
    "createEntity(params, \"Leclerc\", \"DRIVER\")\n",
    "createEntity(params, \"4.1s\", \"GAP\")\n",
    "\n",
    "train_data.append((blog, {\"entities\": ents}))"
   ]
  },
  {
   "cell_type": "code",
   "execution_count": 64,
   "id": "a41c1c1f-6f4d-401a-b3f2-a83bce2f25cf",
   "metadata": {},
   "outputs": [],
   "source": [
    "ents = []\n",
    "blog = \"After stopping for hard tyres, Leclerc is not showing \" +\\\n",
    "       \"anything like spectacular pace. He climbs past Stroll into \" +\\\n",
    "       \"P11, but his example will not tempt others into stopping \" +\\\n",
    "       \"anytime soon.\"\n",
    "\n",
    "params = [blog, ents]\n",
    "\n",
    "createEntity(params, \"Leclerc\", \"DRIVER\")\n",
    "createEntity(params, \"Stroll\", \"DRIVER\")\n",
    "createEntity(params, \"P11\", \"POSITION\")\n",
    "createEntity(params, \"hard\", \"TYRE\")\n",
    "\n",
    "train_data.append((blog, {\"entities\": ents}))"
   ]
  },
  {
   "cell_type": "code",
   "execution_count": 65,
   "id": "ae5080fb-a2c5-43f5-b918-75b8da26b9db",
   "metadata": {},
   "outputs": [],
   "source": [
    "ents = []\n",
    "blog = \"Make that 4.8s - Verstappen's shipped a lot of time \" +\\\n",
    "       \"in the middle sector to Leclerc.\"\n",
    "\n",
    "params = [blog, ents]\n",
    "\n",
    "createEntity(params, \"Verstappen\", \"DRIVER\")\n",
    "createEntity(params, \"middle sector\", \"LOCATION\")\n",
    "createEntity(params, \"Leclerc\", \"DRIVER\")\n",
    "createEntity(params, \"4.8s\", \"GAP\")\n",
    "\n",
    "train_data.append((blog, {\"entities\": ents}))"
   ]
  },
  {
   "cell_type": "code",
   "execution_count": 66,
   "id": "e2ca8c78-7dac-4da4-b79d-8d7d0784e0dc",
   "metadata": {},
   "outputs": [],
   "source": [
    "ents = []\n",
    "blog = \"On lap 33 Hamilton repeats the trick at Turn 1 to take \" +\\\n",
    "       \"sixth off Magnussen.\"\n",
    "\n",
    "params = [blog, ents]\n",
    "\n",
    "createEntity(params, \"lap 33\", \"TIMING\")\n",
    "createEntity(params, \"Hamilton\", \"DRIVER\")\n",
    "createEntity(params, \"Turn 1\", \"LOCATION\")\n",
    "createEntity(params, \"sixth\", \"POSITION\")\n",
    "createEntity(params, \"Magnussen\", \"DRIVER\")\n",
    "\n",
    "train_data.append((blog, {\"entities\": ents}))"
   ]
  },
  {
   "cell_type": "code",
   "execution_count": 67,
   "id": "45eabe94-eddd-4b6f-9ca2-24e130e48c1e",
   "metadata": {},
   "outputs": [],
   "source": [
    "ents = []\n",
    "blog = \"Hamilton pits from fifth place, trading in the hard tyres \" +\\\n",
    "       \"for a set of mediums. That's the full gamut of tyre \" +\\\n",
    "       \"compounds for the Mercedes driver.\"\n",
    "\n",
    "params = [blog, ents]\n",
    "\n",
    "createEntity(params, \"Hamilton\", \"DRIVER\")\n",
    "createEntity(params, \"fifth\", \"POSITION\")\n",
    "createEntity(params, \"Mercedes\", \"TEAM\")\n",
    "createEntity(params, \"hard\", \"TYRE\")\n",
    "createEntity(params, \"mediums\", \"TYRE\")\n",
    "\n",
    "train_data.append((blog, {\"entities\": ents}))"
   ]
  },
  {
   "cell_type": "code",
   "execution_count": 68,
   "id": "9f5cd14f-490f-4824-8d63-c0300d6b968d",
   "metadata": {},
   "outputs": [],
   "source": [
    "ents = []\n",
    "blog = \"After weathering Verstappen's earlier assault, Leclerc \" +\\\n",
    "       \"begins the 22nd lap of 57 with a 2.4s advantage. Sainz has \" +\\\n",
    "       \"upped his pace now, as Perez looks good on the medium compound.\"\n",
    "\n",
    "params = [blog, ents]\n",
    "\n",
    "createEntity(params, \"Verstappen\", \"DRIVER\")\n",
    "createEntity(params, \"Leclerc\", \"22nd lap\")\n",
    "createEntity(params, \"Sainz\", \"DRIVER\")\n",
    "createEntity(params, \"Perez\", \"DRIVER\")\n",
    "createEntity(params, \"2.4s\", \"GAP\")\n",
    "createEntity(params, \"medium\", \"TYRE\")\n",
    "\n",
    "train_data.append((blog, {\"entities\": ents}))"
   ]
  },
  {
   "cell_type": "code",
   "execution_count": 69,
   "id": "09776241-5a58-4438-a405-cb4c5ff22d05",
   "metadata": {},
   "outputs": [],
   "source": [
    "ents = []\n",
    "blog = \"Bottas continues his recovery from a rubbish start by \" +\\\n",
    "       \"getting by Albon for 12th place at Turn 8, before defending \" +\\\n",
    "       \"his position around Turn 11 to complete the move.\"\n",
    "\n",
    "params = [blog, ents]\n",
    "\n",
    "createEntity(params, \"Bottas\", \"DRIVER\")\n",
    "createEntity(params, \"Albon\", \"DRIVER\")\n",
    "createEntity(params, \"12th\", \"POSITION\")\n",
    "createEntity(params, \"Turn 8\", \"LOCATION\")\n",
    "\n",
    "train_data.append((blog, {\"entities\": ents}))"
   ]
  },
  {
   "cell_type": "code",
   "execution_count": 70,
   "id": "40eeb4aa-57a4-439c-860f-c1db62d8837c",
   "metadata": {},
   "outputs": [],
   "source": [
    "ents = []\n",
    "blog = \"The Williams was stranded on the exit of Turn 6. That is \" +\\\n",
    "       \"his first retirement of the season.\"\n",
    "\n",
    "params = [blog, ents]\n",
    "\n",
    "createEntity(params, \"Williams\", \"TEAM\")\n",
    "createEntity(params, \"Turn 6\", \"LOCATION\")\n",
    "\n",
    "train_data.append((blog, {\"entities\": ents}))"
   ]
  },
  {
   "cell_type": "code",
   "execution_count": 71,
   "id": "0569a9b5-0aca-4e2b-856d-ba1ff1919f82",
   "metadata": {},
   "outputs": [],
   "source": [
    "ents = []\n",
    "blog = \"After all that, both Ferraris on mediums didn't pit so \" +\\\n",
    "       \"move up to fourth and fifth and neither did the trio who \" +\\\n",
    "       \"started on the hards - so Perez is sixth, Magnussen is \" +\\\n",
    "       \"seventh and Bottas is eighth.\"\n",
    "\n",
    "params = [blog, ents]\n",
    "\n",
    "createEntity(params, \"Ferraris\", \"TEAM\")\n",
    "createEntity(params, \"fourth\", \"POSITION\")\n",
    "createEntity(params, \"fifth\", \"POSITION\")\n",
    "createEntity(params, \"Perez\", \"DRIVER\")\n",
    "createEntity(params, \"sixth\", \"POSITION\")\n",
    "createEntity(params, \"Magnussen\", \"DRIVER\")\n",
    "createEntity(params, \"seventh\", \"POSITION\")\n",
    "createEntity(params, \"Bottas\", \"DRIVER\")\n",
    "createEntity(params, \"eighth\", \"POSITION\")\n",
    "createEntity(params, \"mediums\", \"TYRE\")\n",
    "createEntity(params, \"hards\", \"TYRE\")\n",
    "\n",
    "train_data.append((blog, {\"entities\": ents}))"
   ]
  },
  {
   "cell_type": "code",
   "execution_count": 72,
   "id": "fcd35831-231e-4188-9783-ed3ce2b6f01e",
   "metadata": {},
   "outputs": [],
   "source": [
    "ents = []\n",
    "blog = \"The stewards have also noted a potential unsafe release \" +\\\n",
    "       \"for Norris, as the McLaren driver passes his team-mate for P10.\"\n",
    "\n",
    "params = [blog, ents]\n",
    "\n",
    "createEntity(params, \"Norris\", \"DRIVER\")\n",
    "createEntity(params, \"McLaren\", \"TEAM\")\n",
    "createEntity(params, \"P10\", \"POSITION\")\n",
    "\n",
    "train_data.append((blog, {\"entities\": ents}))"
   ]
  },
  {
   "cell_type": "code",
   "execution_count": 73,
   "id": "979a8217-d2d3-4218-935e-731c911066b7",
   "metadata": {},
   "outputs": [],
   "source": [
    "ents = []\n",
    "blog = \"Piastri drops behind Albon to P12 after running across the \" +\\\n",
    "       \"runoff at the final chicane. He locked his right front and was \" +\\\n",
    "       \"never going to make that corner in a month of Sundays.\"\n",
    "\n",
    "params = [blog, ents]\n",
    "\n",
    "createEntity(params, \"Piastri\", \"DRIVER\")\n",
    "createEntity(params, \"Albon\", \"DRIVER\")\n",
    "createEntity(params, \"P12\", \"POSITION\")\n",
    "createEntity(params, \"final chicane\", \"LOCATION\")\n",
    "\n",
    "train_data.append((blog, {\"entities\": ents}))"
   ]
  },
  {
   "cell_type": "code",
   "execution_count": 74,
   "id": "1a19233c-4d2a-4919-b072-42657cc9467a",
   "metadata": {},
   "outputs": [],
   "source": [
    "ents = []\n",
    "blog = \"Verstappen is stretching the legs of his Red Bull as he blasts \" +\\\n",
    "       \"1.5s ahead of Hamilton. The medium-shod Ferraris haven't made \" +\\\n",
    "       \"much of an impression on the front three on fresh hards.\"\n",
    "\n",
    "params = [blog, ents]\n",
    "\n",
    "createEntity(params, \"Verstappen\", \"DRIVER\")\n",
    "createEntity(params, \"Red Bull\", \"TEAM\")\n",
    "createEntity(params, \"Hamilton\", \"DRIVER\")\n",
    "createEntity(params, \"Ferraris\", \"TEAM\")\n",
    "createEntity(params, \"1.5s\", \"GAP\")\n",
    "createEntity(params, \"hards\", \"TYRE\")\n",
    "\n",
    "train_data.append((blog, {\"entities\": ents}))"
   ]
  },
  {
   "cell_type": "code",
   "execution_count": 75,
   "id": "bb4ae3f1-a89f-4711-bef3-1fe8ad748d2c",
   "metadata": {},
   "outputs": [],
   "source": [
    "ents = []\n",
    "blog = \"Stroll has now joined the train too. Norris needs a five-second \" +\\\n",
    "       \"margin on the Aston Martin driver to negate his penalty.\"\n",
    "\n",
    "params = [blog, ents]\n",
    "\n",
    "createEntity(params, \"Stroll\", \"DRIVER\")\n",
    "createEntity(params, \"Norris\", \"DRIVER\")\n",
    "createEntity(params, \"Aston Martin\", \"TEAM\")\n",
    "createEntity(params, \"five-second\", \"GAP\")\n",
    "\n",
    "train_data.append((blog, {\"entities\": ents}))"
   ]
  },
  {
   "cell_type": "code",
   "execution_count": 76,
   "id": "d5303892-9c50-4d12-9e1e-339e0a9be0e5",
   "metadata": {},
   "outputs": [],
   "source": [
    "ents = []\n",
    "blog = \"Alonso has a slow lap, running off track at Turn 8, and that's \" +\\\n",
    "       \"allowed Hamilton to take 2s out of his deficit to the Spaniard.\"\n",
    "\n",
    "params = [blog, ents]\n",
    "\n",
    "createEntity(params, \"Alonso\", \"DRIVER\")\n",
    "createEntity(params, \"Turn 8\", \"LOCATION\")\n",
    "createEntity(params, \"Hamilton\", \"DRIVER\")\n",
    "createEntity(params, \"the Spaniard\", \"DRIVER\")\n",
    "createEntity(params, \"2s\", \"GAP\")\n",
    "\n",
    "train_data.append((blog, {\"entities\": ents}))"
   ]
  },
  {
   "cell_type": "code",
   "execution_count": 77,
   "id": "2091c2a0-6152-4b52-b585-c836a9cc5394",
   "metadata": {},
   "outputs": [],
   "source": [
    "ents = []\n",
    "blog = \"Ricciardo's road block role against Perez doesn't last \" +\\\n",
    "       \"long as the Red Bull driver gets ahead into P10, making the \" +\\\n",
    "       \"move around the outside of Turn 1.\"\n",
    "\n",
    "params = [blog, ents]\n",
    "\n",
    "createEntity(params, \"Ricciardo\", \"DRIVER\")\n",
    "createEntity(params, \"Perez\", \"DRIVER\")\n",
    "createEntity(params, \"P10\", \"POSITION\")\n",
    "createEntity(params, \"Turn 1\", \"LOCATION\")\n",
    "\n",
    "train_data.append((blog, {\"entities\": ents}))"
   ]
  },
  {
   "cell_type": "code",
   "execution_count": 78,
   "id": "639bd7c0-249a-4994-9eb1-4e03a341a8b0",
   "metadata": {},
   "outputs": [],
   "source": [
    "ents = []\n",
    "blog = \"Pitstop time! Giovinazzi, Russell and Stroll all come in together. \" +\\\n",
    "       \"Russell comes within a car length of jumping Giovinazzi in the \" +\\\n",
    "       \"pits but just misses out on a net P10.\"\n",
    "\n",
    "params = [blog, ents]\n",
    "\n",
    "createEntity(params, \"Giovinazzi\", \"DRIVER\")\n",
    "createEntity(params, \"Russell\", \"DRIVER\")\n",
    "createEntity(params, \"Stroll\", \"DRIVER\")\n",
    "createEntity(params, \"Russell\", \"DRIVER\", 2)\n",
    "createEntity(params, \"Giovinazzi\", \"DRIVER\", 2)\n",
    "createEntity(params, \"P10\", \"POSITION\")\n",
    "\n",
    "train_data.append((blog, {\"entities\": ents}))"
   ]
  },
  {
   "cell_type": "code",
   "execution_count": 79,
   "id": "4a9cfeef-b845-43df-aee5-62a314ea69c6",
   "metadata": {},
   "outputs": [],
   "source": [
    "with open('./ner_training_data.ob', 'wb') as f:\n",
    "    pickle.dump(train_data, f)"
   ]
  }
 ],
 "metadata": {
  "kernelspec": {
   "display_name": "Python3 (dataenv)",
   "language": "python",
   "name": "dataenv"
  },
  "language_info": {
   "codemirror_mode": {
    "name": "ipython",
    "version": 3
   },
   "file_extension": ".py",
   "mimetype": "text/x-python",
   "name": "python",
   "nbconvert_exporter": "python",
   "pygments_lexer": "ipython3",
   "version": "3.10.11"
  }
 },
 "nbformat": 4,
 "nbformat_minor": 5
}
